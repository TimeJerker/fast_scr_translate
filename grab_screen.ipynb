{
 "cells": [
  {
   "cell_type": "code",
   "execution_count": null,
   "id": "994b3617-7bb0-4541-b652-6abfd6ab55ef",
   "metadata": {},
   "outputs": [],
   "source": []
  },
  {
   "cell_type": "code",
   "execution_count": 2,
   "id": "60c4009a-5a12-4935-a421-f793020a91cc",
   "metadata": {},
   "outputs": [
    {
     "name": "stdout",
     "output_type": "stream",
     "text": [
      "10.0.0\n"
     ]
    }
   ],
   "source": [
    "import mss\n",
    "print(mss.__version__)"
   ]
  },
  {
   "cell_type": "code",
   "execution_count": 7,
   "id": "37bd3467-5f88-4a4a-8940-90ddd1dc8fba",
   "metadata": {},
   "outputs": [
    {
     "name": "stdout",
     "output_type": "stream",
     "text": [
      "Распознанный текст: Diverse and rich experience consulting with a broad asset allows for important assignments to develop significant financial and administrative terms and conditions. The diverse and\n",
      "rich experience of strengthening and developing the structure entails a process of introducing and modernizing mass participation systems. It should not be forgotten, however, that a\n",
      "new model of organizational activity entails a process of introducing and modernizing further development. It should not be forgotten, however, that the constant advocacy of our\n",
      "activities makes it possible to appreciate the importance of development modalities.\n",
      "\n",
      "E@eOes 86050 ©8823\n",
      "\n",
      "Перевод: Разнообразный и богатый опыт работы в области консалтинга с широким активом позволяет выполнять важные задания для разработки значительных финансовых и административных условий. Разнообразие и\n",
      "Богатый опыт укрепления и разработки структуры влечет за собой процесс введения и модернизации систем массового участия. Однако не следует забывать, что\n",
      "Новая модель организационной деятельности влечет за собой процесс введения и модернизации дальнейшего развития. Однако не следует забывать, что постоянная пропаганда нашего\n",
      "Мероприятия позволяет оценить важность методов развития.\n",
      "\n",
      "E@eoes 86050 © 8823\n"
     ]
    }
   ],
   "source": [
    "import mss\n",
    "from PIL import Image\n",
    "import pytesseract\n",
    "from deep_translator import GoogleTranslator\n",
    "\n",
    "# Захват экрана\n",
    "with mss.mss() as sct:\n",
    "    screen_width = sct.monitors[0][\"width\"]   \n",
    "    screen_height = sct.monitors[0][\"height\"]\n",
    "    monitor = {\"top\": screen_height-400, \"left\": 0, \"width\": screen_width, \"height\": screen_height}\n",
    "    screenshot = sct.grab(monitor)\n",
    "    img = Image.frombytes(\"RGB\", screenshot.size, screenshot.rgb)\n",
    "\n",
    "# Распознавание текста\n",
    "text = pytesseract.image_to_string(img, lang=\"rus+eng\")\n",
    "print(\"Распознанный текст:\", text)\n",
    "\n",
    "# 3. Перевод (если текст не пустой)\n",
    "if text.strip():\n",
    "    translated = GoogleTranslator(source=\"auto\", target=\"ru\").translate(text)\n",
    "    print(\"Перевод:\", translated)\n",
    "else:\n",
    "    print(\"Текст не обнаружен.\")"
   ]
  },
  {
   "cell_type": "code",
   "execution_count": 6,
   "id": "4652c20c-4098-4391-a1b0-96659808bbc3",
   "metadata": {},
   "outputs": [],
   "source": [
    "import mss\n",
    "from PIL import Image\n",
    "\n",
    "\n",
    "with mss.mss() as sct:\n",
    "    screen_width = sct.monitors[0][\"width\"]   \n",
    "    screen_height = sct.monitors[0][\"height\"]\n",
    "    monitor = {\"top\": screen_height-400, \"left\": 0, \"width\": screen_width, \"height\": screen_height}\n",
    "    screenshot = sct.grab(monitor)\n",
    "    img = Image.frombytes(\"RGB\", screenshot.size, screenshot.rgb)\n",
    "    img.show()  # Откроет изображение в стандартном просмотрщике"
   ]
  },
  {
   "cell_type": "code",
   "execution_count": null,
   "id": "ffeebdda-e7a4-4e34-807b-2c299b8382ed",
   "metadata": {},
   "outputs": [
    {
     "name": "stdout",
     "output_type": "stream",
     "text": [
      "Распознано: 15 utons 2025r. B 00:24\n",
      "\n",
      "Diverse and rich experience consulting with a broad asset allows for important assignments to develop significant financial and administrative terms and conditions. The diverse and\n",
      "rich experience of strengthening and developing the structure entails a process of introducing and modernizing mass participation systems. It should not be forgotten, however, that a\n",
      "new model of organizational activity entails a process of introducing and modernizing further development. It should not be forgotten, however, that the constant advocacy of our\n",
      "\n",
      "activities makes it possible to appreciate the importance of development modalities.\n",
      "\n",
      "EeO07 B@038 o@Oa2C.\n",
      "Перевод: 15 Utons 2025r. B 00:24\n",
      "\n",
      "Разнообразный и богатый опыт работы в области консалтинга с широким активом позволяет выполнять важные задания для разработки значительных финансовых и административных условий. Разнообразие и\n",
      "Богатый опыт укрепления и разработки структуры влечет за собой процесс введения и модернизации систем массового участия. Однако не следует забывать, что\n",
      "Новая модель организационной деятельности влечет за собой процесс введения и модернизации дальнейшего развития. Однако не следует забывать, что постоянная пропаганда нашего\n",
      "\n",
      "Мероприятия позволяет оценить важность методов развития.\n",
      "\n",
      "EEO07 B@038 O@OA2C.\n"
     ]
    },
    {
     "name": "stderr",
     "output_type": "stream",
     "text": [
      "2025-06-15 00:54:40.079 Python[4103:444381] +[IMKClient subclass]: chose IMKClient_Modern\n",
      "2025-06-15 00:54:40.079 Python[4103:444381] +[IMKInputSession subclass]: chose IMKInputSession_Modern\n"
     ]
    }
   ],
   "source": [
    "import sys\n",
    "import mss\n",
    "from PIL import Image\n",
    "import pytesseract\n",
    "from deep_translator import GoogleTranslator\n",
    "from PyQt5.QtWidgets import QApplication, QLabel, QWidget\n",
    "from PyQt5.QtCore import Qt, QTimer\n",
    "from PyQt5.QtGui import QGuiApplication  # Добавлено для правильного завершения\n",
    "\n",
    "class TranslationOverlay(QWidget):\n",
    "    def __init__(self, text, monitor_geometry):\n",
    "        super().__init__()\n",
    "        self.text = text\n",
    "        self.monitor_geometry = monitor_geometry\n",
    "        self.initUI()\n",
    "\n",
    "    def initUI(self):\n",
    "        self.setWindowFlags(Qt.FramelessWindowHint | Qt.WindowStaysOnTopHint | Qt.Tool)\n",
    "        self.setAttribute(Qt.WA_TranslucentBackground)\n",
    "        \n",
    "        # Устанавливаем размер и позицию\n",
    "        self.setGeometry(\n",
    "            self.monitor_geometry[\"left\"], \n",
    "            self.monitor_geometry[\"top\"], \n",
    "            self.monitor_geometry[\"width\"], \n",
    "            self.monitor_geometry[\"height\"]\n",
    "        )\n",
    "        \n",
    "        self.label = QLabel(self.text, self)\n",
    "        self.label.setStyleSheet(\"\"\"\n",
    "            QLabel {\n",
    "                color: white;\n",
    "                font-size: 20px;\n",
    "                background-color: rgba(0, 0, 0, 150);\n",
    "                padding: 10px;\n",
    "                border-radius: 5px;\n",
    "            }\n",
    "        \"\"\")\n",
    "        self.label.adjustSize()\n",
    "        self.label.move(10, self.height() - self.label.height() - 50)\n",
    "        \n",
    "        # Таймер закрытия\n",
    "        self.timer = QTimer(self)  # Сохраняем ссылку на таймер\n",
    "        self.timer.timeout.connect(self.cleanup)\n",
    "        self.timer.start(5000)\n",
    "\n",
    "    def cleanup(self):\n",
    "        self.timer.stop()  # Важно: останавливаем таймер\n",
    "        self.close()\n",
    "\n",
    "    def closeEvent(self, event):\n",
    "        \"\"\"Переопределяем обработчик закрытия окна\"\"\"\n",
    "        self.cleanup()\n",
    "        event.accept()\n",
    "\n",
    "def capture_and_translate():\n",
    "    with mss.mss() as sct:\n",
    "        screen = sct.monitors[0]\n",
    "        monitor = {\n",
    "            \"top\": screen[\"height\"] - 400, \n",
    "            \"left\": 0, \n",
    "            \"width\": screen[\"width\"], \n",
    "            \"height\": 400\n",
    "        }\n",
    "        \n",
    "        screenshot = sct.grab(monitor)\n",
    "        img = Image.frombytes(\"RGB\", screenshot.size, screenshot.rgb)\n",
    "        text = pytesseract.image_to_string(img, lang=\"rus+eng\").strip()\n",
    "        \n",
    "        if text:\n",
    "            translated = GoogleTranslator(source=\"auto\", target=\"ru\").translate(text)\n",
    "            print(f\"Распознано: {text}\\nПеревод: {translated}\")\n",
    "            \n",
    "            app = QApplication(sys.argv)\n",
    "            app.setQuitOnLastWindowClosed(True)  # Важная настройка\n",
    "            \n",
    "            overlay = TranslationOverlay(translated, monitor)\n",
    "            overlay.show()\n",
    "            \n",
    "            # Правильный запуск приложения\n",
    "            ret = app.exec_()\n",
    "            sys.exit(ret)  # Гарантированное завершение\n",
    "        else:\n",
    "            print(\"Текст не обнаружен.\")\n",
    "\n",
    "if __name__ == \"__main__\":\n",
    "    capture_and_translate()"
   ]
  },
  {
   "cell_type": "code",
   "execution_count": null,
   "id": "b0ede5d9-8599-47b0-a6cd-1f611753c691",
   "metadata": {},
   "outputs": [],
   "source": []
  }
 ],
 "metadata": {
  "kernelspec": {
   "display_name": "Python 3 (ipykernel)",
   "language": "python",
   "name": "python3"
  },
  "language_info": {
   "codemirror_mode": {
    "name": "ipython",
    "version": 3
   },
   "file_extension": ".py",
   "mimetype": "text/x-python",
   "name": "python",
   "nbconvert_exporter": "python",
   "pygments_lexer": "ipython3",
   "version": "3.13.3"
  }
 },
 "nbformat": 4,
 "nbformat_minor": 5
}
